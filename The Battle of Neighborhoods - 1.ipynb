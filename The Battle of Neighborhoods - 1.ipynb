{
 "cells": [
  {
   "cell_type": "markdown",
   "metadata": {},
   "source": [
    "# The Battle of Neighborhoods - Report \n",
    "## Introduction"
   ]
  },
  {
   "cell_type": "markdown",
   "metadata": {},
   "source": [
    "Venturing into a business in hospitality/food industry can be tricky. The list of things to keep in mind before owning a business in the sector is quite long. One among them is choose the locality in such a manner that it helps in the business's long term profitability and it builds a strong foothold in the area of choice. While being a resident of a city may help with a surface level knowledge of the hip localites initially, there is lots that might get missed when relying on personal experiences alone. This is where data comes in. \n",
    "\n",
    "We can leverage information found on the Foursquare API to segment the neighbourhoods of Delhi based on the restaurants in the area and accordingly give recommendations backed by data to a new business owner looking to open a restaurant in the city. The information can also be helpful to customers for finding popular neighbourhoods for different kinds of food joint. \n",
    "\n",
    "### Business Problem: A new business owner is looking to open a restaurant in Delhi. Where would you recommend they open it?\n"
   ]
  },
  {
   "cell_type": "markdown",
   "metadata": {},
   "source": [
    "## Data"
   ]
  },
  {
   "cell_type": "markdown",
   "metadata": {},
   "source": [
    "All data related to restaurants and venues in Delhi are procured by Foursquare API which is a location application that recommends nearby venues and local businesses in the user's area. All data is retrieved in JSON format and then converted to a dataframe in Pandas.\n",
    "The information on the neighbourhoods of Delhi are scraped from the Wikipedia page of the same name. There are total 139 neighbourhoods in Delhi. \n",
    "To call a query from the Foursquare API, we need the latitude and longitude coordinates of the neighbourhoods. To get the coordinates data, we use the library geopy.geocoders. "
   ]
  }
 ],
 "metadata": {
  "kernelspec": {
   "display_name": "Python 3",
   "language": "python",
   "name": "python3"
  },
  "language_info": {
   "codemirror_mode": {
    "name": "ipython",
    "version": 3
   },
   "file_extension": ".py",
   "mimetype": "text/x-python",
   "name": "python",
   "nbconvert_exporter": "python",
   "pygments_lexer": "ipython3",
   "version": "3.7.3"
  }
 },
 "nbformat": 4,
 "nbformat_minor": 2
}
